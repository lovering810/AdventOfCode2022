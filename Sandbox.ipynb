{
 "cells": [
  {
   "cell_type": "code",
   "execution_count": 1,
   "id": "3e45bb85",
   "metadata": {},
   "outputs": [],
   "source": [
    "with open(\"day5/day5_data.txt\",\"r\") as fyle:\n",
    "    data = fyle.readlines()\n",
    "\n",
    "starting_config = data[:10]\n",
    "moves = data[10:]\n",
    "\n",
    "# parse starting_config, three chars per column w spaces between\n",
    "starting_config_grid = [line.strip()[i:i+4] for line in starting_config for i in range(0, len(line.strip()), 4) ]"
   ]
  },
  {
   "cell_type": "code",
   "execution_count": 2,
   "id": "b461e8fa",
   "metadata": {},
   "outputs": [
    {
     "data": {
      "text/plain": [
       "['[B]                     [N]     [H]',\n",
       " '[V]         [P] [T]     [V]     [P]',\n",
       " '[W]     [C] [T] [S]     [H]     [N]',\n",
       " '[T]     [J] [Z] [M] [N] [F]     [L]',\n",
       " '[Q]     [W] [N] [J] [T] [Q] [R] [B]',\n",
       " '[N] [B] [Q] [R] [V] [F] [D] [F] [M]',\n",
       " '[H] [W] [S] [J] [P] [W] [L] [P] [S]',\n",
       " '[D] [D] [T] [F] [G] [B] [B] [H] [Z]',\n",
       " '1   2   3   4   5   6   7   8   9']"
      ]
     },
     "execution_count": 2,
     "metadata": {},
     "output_type": "execute_result"
    }
   ],
   "source": [
    "starting_config = [line.strip() for line in starting_config[:-1]]\n",
    "starting_config"
   ]
  },
  {
   "cell_type": "code",
   "execution_count": 3,
   "id": "6f93f268",
   "metadata": {},
   "outputs": [
    {
     "data": {
      "text/plain": [
       "['[B] ', '    ', '    ', '    ', '    ', '    ', '[N] ', '    ', '[H]']"
      ]
     },
     "execution_count": 3,
     "metadata": {},
     "output_type": "execute_result"
    }
   ],
   "source": [
    "spreddy = starting_config[0]\n",
    "spreddygrid = [spreddy[i:i+4] for i in range(0, len(spreddy), 4)]\n",
    "spreddygrid"
   ]
  },
  {
   "cell_type": "code",
   "execution_count": 4,
   "id": "5dfd8c2e",
   "metadata": {},
   "outputs": [
    {
     "data": {
      "text/plain": [
       "[['[B] ', '    ', '    ', '    ', '    ', '    ', '[N] ', '    ', '[H]'],\n",
       " ['[V] ', '    ', '    ', '[P] ', '[T] ', '    ', '[V] ', '    ', '[P]'],\n",
       " ['[W] ', '    ', '[C] ', '[T] ', '[S] ', '    ', '[H] ', '    ', '[N]'],\n",
       " ['[T] ', '    ', '[J] ', '[Z] ', '[M] ', '[N] ', '[F] ', '    ', '[L]'],\n",
       " ['[Q] ', '    ', '[W] ', '[N] ', '[J] ', '[T] ', '[Q] ', '[R] ', '[B]'],\n",
       " ['[N] ', '[B] ', '[Q] ', '[R] ', '[V] ', '[F] ', '[D] ', '[F] ', '[M]'],\n",
       " ['[H] ', '[W] ', '[S] ', '[J] ', '[P] ', '[W] ', '[L] ', '[P] ', '[S]'],\n",
       " ['[D] ', '[D] ', '[T] ', '[F] ', '[G] ', '[B] ', '[B] ', '[H] ', '[Z]']]"
      ]
     },
     "execution_count": 4,
     "metadata": {},
     "output_type": "execute_result"
    }
   ],
   "source": [
    "starting_config_grid = [[line.strip()[i:i+4] for i in range(0, len(line.strip()), 4)] for line in starting_config[:-1]]\n",
    "starting_config_grid"
   ]
  },
  {
   "cell_type": "code",
   "execution_count": 5,
   "id": "8687f19d",
   "metadata": {},
   "outputs": [
    {
     "data": {
      "text/plain": [
       "defaultdict(list,\n",
       "            {'1': ['[B]', '[V]', '[W]', '[T]', '[Q]', '[N]', '[H]', '[D]'],\n",
       "             '2': ['[B]', '[W]', '[D]'],\n",
       "             '3': ['[C]', '[J]', '[W]', '[Q]', '[S]', '[T]'],\n",
       "             '4': ['[P]', '[T]', '[Z]', '[N]', '[R]', '[J]', '[F]'],\n",
       "             '5': ['[T]', '[S]', '[M]', '[J]', '[V]', '[P]', '[G]'],\n",
       "             '6': ['[N]', '[T]', '[F]', '[W]', '[B]'],\n",
       "             '7': ['[N]', '[V]', '[H]', '[F]', '[Q]', '[D]', '[L]', '[B]'],\n",
       "             '8': ['[R]', '[F]', '[P]', '[H]'],\n",
       "             '9': ['[H]', '[P]', '[N]', '[L]', '[B]', '[M]', '[S]', '[Z]']})"
      ]
     },
     "execution_count": 5,
     "metadata": {},
     "output_type": "execute_result"
    }
   ],
   "source": [
    "from collections import defaultdict\n",
    "# flip 'em\n",
    "stacks = defaultdict(list)\n",
    "for column_index in range(len(starting_config_grid[0])):\n",
    "    stacks[str(column_index+1)] += [x[column_index].strip() for x in starting_config_grid if x[column_index] != '    ']\n",
    "\n",
    "stacks"
   ]
  },
  {
   "cell_type": "code",
   "execution_count": 6,
   "id": "78e6ce24",
   "metadata": {},
   "outputs": [
    {
     "name": "stdout",
     "output_type": "stream",
     "text": [
      "number to move found: 2, from: 8, to: 1\n"
     ]
    }
   ],
   "source": [
    "import re\n",
    "instruction = \"move 2 from 8 to 1\"\n",
    "number_pattern = r\"move (\\d*)\"\n",
    "origin_pattern = r\"from (\\d)\"\n",
    "destination_pattern = r\"to (\\d)\"\n",
    "\n",
    "num = re.findall(number_pattern, instruction)[0]\n",
    "origin = re.findall(origin_pattern, instruction)[0]\n",
    "destination = re.findall(destination_pattern, instruction)[0]\n",
    "print(f\"number to move found: {num}, from: {origin}, to: {destination}\")"
   ]
  },
  {
   "cell_type": "code",
   "execution_count": 7,
   "id": "7d018f06",
   "metadata": {},
   "outputs": [
    {
     "data": {
      "text/plain": [
       "[('2', '8', '1')]"
      ]
     },
     "execution_count": 7,
     "metadata": {},
     "output_type": "execute_result"
    }
   ],
   "source": [
    "pattern = r\"move (\\d*) from (\\d) to (\\d)\"\n",
    "results=re.findall(pattern, instruction)\n",
    "results"
   ]
  },
  {
   "cell_type": "code",
   "execution_count": 8,
   "id": "82c6a9e5",
   "metadata": {},
   "outputs": [
    {
     "data": {
      "text/plain": [
       "'2'"
      ]
     },
     "execution_count": 8,
     "metadata": {},
     "output_type": "execute_result"
    }
   ],
   "source": [
    "results[0][0]"
   ]
  },
  {
   "cell_type": "code",
   "execution_count": 9,
   "id": "326c8faf",
   "metadata": {},
   "outputs": [
    {
     "name": "stdout",
     "output_type": "stream",
     "text": [
      "item: [H], moved from 8 to 1: ['[B]', '[V]', '[W]', '[T]', '[Q]', '[N]', '[H]', '[D]', '[H]']\n",
      "item: [P], moved from 8 to 1: ['[B]', '[V]', '[W]', '[T]', '[Q]', '[N]', '[H]', '[D]', '[H]', '[P]']\n"
     ]
    },
    {
     "data": {
      "text/plain": [
       "defaultdict(list,\n",
       "            {'1': ['[B]',\n",
       "              '[V]',\n",
       "              '[W]',\n",
       "              '[T]',\n",
       "              '[Q]',\n",
       "              '[N]',\n",
       "              '[H]',\n",
       "              '[D]',\n",
       "              '[H]',\n",
       "              '[P]'],\n",
       "             '2': ['[B]', '[W]', '[D]'],\n",
       "             '3': ['[C]', '[J]', '[W]', '[Q]', '[S]', '[T]'],\n",
       "             '4': ['[P]', '[T]', '[Z]', '[N]', '[R]', '[J]', '[F]'],\n",
       "             '5': ['[T]', '[S]', '[M]', '[J]', '[V]', '[P]', '[G]'],\n",
       "             '6': ['[N]', '[T]', '[F]', '[W]', '[B]'],\n",
       "             '7': ['[N]', '[V]', '[H]', '[F]', '[Q]', '[D]', '[L]', '[B]'],\n",
       "             '8': ['[R]', '[F]'],\n",
       "             '9': ['[H]', '[P]', '[N]', '[L]', '[B]', '[M]', '[S]', '[Z]']})"
      ]
     },
     "execution_count": 9,
     "metadata": {},
     "output_type": "execute_result"
    }
   ],
   "source": [
    "\n",
    "def parse_instruction(instruction) -> tuple:\n",
    "    pattern = r\"move (\\d*) from (\\d) to (\\d)\"\n",
    "    results=re.findall(pattern, instruction)\n",
    "    return results[0]\n",
    "\n",
    "def move_crates(stacks: dict, instructions: list):\n",
    "    for instruction in instructions:\n",
    "        num, origin, destination = parse_instruction(instruction=instruction)\n",
    "        for _ in range(int(num)):\n",
    "            # get num crates from origin\n",
    "            item = stacks[origin].pop()\n",
    "            # apply to destination\n",
    "            stacks[destination].append(item) \n",
    "            print(f\"item: {item}, moved from {origin} to {destination}: {stacks[destination]}\")\n",
    "            \n",
    "\n",
    "    return stacks\n",
    "\n",
    "move_crates(stacks=stacks, instructions = [instruction])"
   ]
  }
 ],
 "metadata": {
  "kernelspec": {
   "display_name": "Python 3 (ipykernel)",
   "language": "python",
   "name": "python3"
  },
  "language_info": {
   "codemirror_mode": {
    "name": "ipython",
    "version": 3
   },
   "file_extension": ".py",
   "mimetype": "text/x-python",
   "name": "python",
   "nbconvert_exporter": "python",
   "pygments_lexer": "ipython3",
   "version": "3.10.7"
  }
 },
 "nbformat": 4,
 "nbformat_minor": 5
}
